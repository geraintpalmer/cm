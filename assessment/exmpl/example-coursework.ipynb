{
 "cells": [
  {
   "cell_type": "code",
   "execution_count": 34,
   "metadata": {
    "collapsed": true
   },
   "outputs": [],
   "source": [
    "import scipy.stats"
   ]
  },
  {
   "cell_type": "code",
   "execution_count": 106,
   "metadata": {
    "collapsed": true
   },
   "outputs": [],
   "source": [
    "def mann_whitney_u(data1, data2):\n",
    "    # Get sorted data\n",
    "    data1 = sorted(data1)\n",
    "    data2 = sorted(data2)\n",
    "    \n",
    "    # Get numbers of observations\n",
    "    n1 = len(data1)\n",
    "    n2 = len(data2)\n",
    "    max_rank = len(data1) + len(data2)\n",
    "    \n",
    "    # Placeholders to keep the ranks\n",
    "    ranks1 = []\n",
    "    ranks2 = []\n",
    "    current_rank = 1\n",
    "    \n",
    "    # Place rank in correct holder\n",
    "    while current_rank <= max_rank:\n",
    "        if len(data2) == 0:\n",
    "            ranks1.append(current_rank)\n",
    "            current_rank += 1\n",
    "            data1.pop(0)\n",
    "        elif len(data1) == 0:\n",
    "            ranks2.append(current_rank)\n",
    "            current_rank += 1\n",
    "            data2.pop(0)\n",
    "        else:\n",
    "            if data1[0] == data2[0]:\n",
    "                ranks1.append(current_rank + 0.5)\n",
    "                ranks2.append(current_rank + 0.5)\n",
    "                current_rank += 2\n",
    "                data1.pop(0)\n",
    "                data2.pop(0)\n",
    "            elif data1[0] < data2[0]:\n",
    "                ranks1.append(current_rank)\n",
    "                current_rank += 1\n",
    "                data1.pop(0)\n",
    "            elif data2[0] < data1[0]:\n",
    "                ranks2.append(current_rank)\n",
    "                current_rank += 1\n",
    "                data2.pop(0)\n",
    "    \n",
    "    # Get rank sums and U statistic\n",
    "    R1 = sum(ranks1)\n",
    "    R2 = sum(ranks2)\n",
    "    U1 = R1 - ((n1 * (n1 + 1)) / 2)\n",
    "    U2 = R2 - ((n2 * (n2 + 1)) / 2)\n",
    "    U = min(U1, U2)\n",
    "    \n",
    "    # Normal approximation\n",
    "    mu = (n1 * n2) / 2\n",
    "    sg = ((n1 * n2 * (n1 + n2 + 1)) / 12) ** 0.5\n",
    "    z = (U - mu) / sg\n",
    "    p_val = scipy.stats.norm(0, 1).cdf(z)\n",
    "    return p_val"
   ]
  },
  {
   "cell_type": "code",
   "execution_count": 89,
   "metadata": {
    "collapsed": true
   },
   "outputs": [],
   "source": [
    "data1 = [4.5, 2.3, 1.1, 2.1, 2.2, 2.4, 3.2, 8.9, 6.6, 6.3, 2.3]\n",
    "data2 = [4.3, 2.5, 5.5, 5.6, 6.2, 5.2, 5.3, 2.8, 8.8]"
   ]
  },
  {
   "cell_type": "code",
   "execution_count": 90,
   "metadata": {},
   "outputs": [
    {
     "data": {
      "text/plain": [
       "0.06923835751605856"
      ]
     },
     "execution_count": 90,
     "metadata": {},
     "output_type": "execute_result"
    }
   ],
   "source": [
    "mann_whitney_u(data1, data2)"
   ]
  },
  {
   "cell_type": "code",
   "execution_count": 91,
   "metadata": {
    "collapsed": true
   },
   "outputs": [],
   "source": [
    "import pandas as pd\n",
    "import numpy as np\n",
    "import matplotlib.pyplot as plt\n",
    "%matplotlib inline"
   ]
  },
  {
   "cell_type": "code",
   "execution_count": 92,
   "metadata": {},
   "outputs": [],
   "source": [
    "data = pd.read_excel('Table_784a_201803.xlsx', sheet_name='Mar_2018_qtr', skiprows=19, skipfooter=15, usecols=[1, 2, 12], names=['Local Authority', 'RegionE', 'Homeless per 1000'])"
   ]
  },
  {
   "cell_type": "code",
   "execution_count": 93,
   "metadata": {
    "collapsed": true
   },
   "outputs": [],
   "source": [
    "south = ['SE', 'SW', 'EE']\n",
    "north = ['NW', 'NE', 'YH']\n",
    "london = ['L']"
   ]
  },
  {
   "cell_type": "code",
   "execution_count": 94,
   "metadata": {},
   "outputs": [],
   "source": [
    "data['Homeless per 1000'] = data['Homeless per 1000'].replace('--', np.nan)\n",
    "data = data.dropna()"
   ]
  },
  {
   "cell_type": "code",
   "execution_count": 95,
   "metadata": {},
   "outputs": [],
   "source": [
    "sample_south = data[data['RegionE'].isin(south)].sample(30, random_state=4)\n",
    "sample_north = data[data['RegionE'].isin(north)].sample(30, random_state=4)\n",
    "sample_london = data[data['RegionE'].isin(london)].sample(30, random_state=4)"
   ]
  },
  {
   "cell_type": "code",
   "execution_count": 96,
   "metadata": {},
   "outputs": [],
   "source": [
    "data = pd.concat([sample_north, sample_south, sample_london], keys=['South', 'North', 'London']).reset_index()[['Local Authority', 'level_0', 'Homeless per 1000']]\n",
    "data.columns = ['Local Authority', 'Region', 'Homeless per 1000']"
   ]
  },
  {
   "cell_type": "code",
   "execution_count": 97,
   "metadata": {},
   "outputs": [
    {
     "data": {
      "text/plain": [
       "'\\\\begin{tabular}{lllr}\\n\\\\toprule\\n{} &           Local Authority &  Region &  Homeless per 1000 \\\\\\\\\\n\\\\midrule\\n14 &                Rossendale &   South &               0.46 \\\\\\\\\\n10 &                Calderdale &   South &               0.22 \\\\\\\\\\n76 &                     Brent &  London &               0.64 \\\\\\\\\\n65 &    Kensington and Chelsea &  London &               1.12 \\\\\\\\\\n37 &                    Thanet &   North &               0.71 \\\\\\\\\\n61 &                   Lambeth &  London &               0.53 \\\\\\\\\\n43 &                  Cornwall &   North &               0.32 \\\\\\\\\\n41 &      Reigate and Banstead &   North &               0.33 \\\\\\\\\\n20 &                 Gateshead &   South &               0.49 \\\\\\\\\\n74 &                 Redbridge &  London &               0.91 \\\\\\\\\\n86 &                   Enfield &  London &               0.88 \\\\\\\\\\n13 &  East Riding of Yorkshire &   South &               0.46 \\\\\\\\\\n\\\\bottomrule\\n\\\\end{tabular}\\n'"
      ]
     },
     "execution_count": 97,
     "metadata": {},
     "output_type": "execute_result"
    }
   ],
   "source": [
    "data.sample(12, random_state=4).to_latex()"
   ]
  },
  {
   "cell_type": "code",
   "execution_count": 98,
   "metadata": {},
   "outputs": [],
   "source": [
    "data_south = list(data[data['Region']=='South']['Homeless per 1000'])\n",
    "data_north = list(data[data['Region']=='North']['Homeless per 1000'])\n",
    "data_london = list(data[data['Region']=='London']['Homeless per 1000'])"
   ]
  },
  {
   "cell_type": "code",
   "execution_count": 99,
   "metadata": {},
   "outputs": [
    {
     "data": {
      "image/png": "[encoded data removed]",
      "text/plain": [
       "<matplotlib.figure.Figure at 0x1192d4400>"
      ]
     },
     "metadata": {},
     "output_type": "display_data"
    }
   ],
   "source": [
    "plt.hist(data_south, edgecolor='black', alpha=0.5)\n",
    "plt.xlim(0, 2)\n",
    "plt.title('Homeless per 1000 (South)', fontsize=16)\n",
    "plt.savefig('south_homeless.pdf')\n",
    "plt.show()"
   ]
  },
  {
   "cell_type": "code",
   "execution_count": 100,
   "metadata": {},
   "outputs": [
    {
     "data": {
      "image/png": "[encoded data removed]",
      "text/plain": [
       "<matplotlib.figure.Figure at 0x119164a90>"
      ]
     },
     "metadata": {},
     "output_type": "display_data"
    }
   ],
   "source": [
    "plt.hist(data_north, edgecolor='black', alpha=0.5)\n",
    "plt.xlim(0, 2)\n",
    "plt.title('Homeless per 1000 (North)', fontsize=16)\n",
    "plt.savefig('north_homeless.pdf')\n",
    "plt.show()"
   ]
  },
  {
   "cell_type": "code",
   "execution_count": 101,
   "metadata": {},
   "outputs": [
    {
     "data": {
      "image/png": "[encoded data removed]",
      "text/plain": [
       "<matplotlib.figure.Figure at 0x1192b7470>"
      ]
     },
     "metadata": {},
     "output_type": "display_data"
    }
   ],
   "source": [
    "plt.hist(data_london, edgecolor='black', alpha=0.5)\n",
    "plt.xlim(0, 2)\n",
    "plt.title('Homeless per 1000 (London)', fontsize=16)\n",
    "plt.savefig('london_homeless.pdf')\n",
    "plt.show()"
   ]
  },
  {
   "cell_type": "code",
   "execution_count": 102,
   "metadata": {},
   "outputs": [
    {
     "data": {
      "text/plain": [
       "4.388061912191502e-07"
      ]
     },
     "execution_count": 102,
     "metadata": {},
     "output_type": "execute_result"
    }
   ],
   "source": [
    "mann_whitney_u(data_north+data_south, data_london)"
   ]
  },
  {
   "cell_type": "code",
   "execution_count": 103,
   "metadata": {},
   "outputs": [
    {
     "data": {
      "text/plain": [
       "0.0620756405457464"
      ]
     },
     "execution_count": 103,
     "metadata": {},
     "output_type": "execute_result"
    }
   ],
   "source": [
    "mann_whitney_u(data_south, data_north)"
   ]
  },
  {
   "cell_type": "code",
   "execution_count": null,
   "metadata": {
    "collapsed": true
   },
   "outputs": [],
   "source": []
  }
 ],
 "metadata": {
  "kernelspec": {
   "display_name": "Python 3",
   "language": "python",
   "name": "python3"
  },
  "language_info": {
   "codemirror_mode": {
    "name": "ipython",
    "version": 3
   },
   "file_extension": ".py",
   "mimetype": "text/x-python",
   "name": "python",
   "nbconvert_exporter": "python",
   "pygments_lexer": "ipython3",
   "version": "3.5.4"
  }
 },
 "nbformat": 4,
 "nbformat_minor": 2
}
