{
 "cells": [
  {
   "cell_type": "raw",
   "metadata": {
    "collapsed": true
   },
   "source": [
    "---\n",
    "layout: page\n",
    "permalink: /chapters/session03/\n",
    "title: Programming Concepts 1\n",
    "---"
   ]
  },
  {
   "cell_type": "markdown",
   "metadata": {},
   "source": [
    "Below is Python code that simulates a queueing system. It should reflect the algorithm you developed in your groups."
   ]
  },
  {
   "cell_type": "code",
   "execution_count": 1,
   "metadata": {
    "collapsed": true
   },
   "outputs": [],
   "source": [
    "import random\n",
    "\n",
    "def simulate_queue(arrival_rate, service_rate, number_of_staff, time_period, limit):\n",
    "    \"\"\"\n",
    "    Simulates one run of a queue and returns the proportion of customers\n",
    "    waiting over a given limit. The parameters are:\n",
    "    \n",
    "    + arrival_rate\n",
    "    + service_rate\n",
    "    + number_of_staff\n",
    "    + time_period\n",
    "    + limit\n",
    "    \"\"\"\n",
    "    number_of_customers = 0\n",
    "    number_over_limit = 0\n",
    "    now = 0\n",
    "    server_available_dates = [0] * number_of_staff\n",
    "    service_times = []\n",
    "\n",
    "    while now < time_period:\n",
    "        inter_arrival_time = random.expovariate(arrival_rate)\n",
    "        now += inter_arrival_time\n",
    "        number_of_customers += 1\n",
    "        \n",
    "        service_start_date = max(now, min(server_available_dates))\n",
    "        \n",
    "        service_time = random.expovariate(service_rate)\n",
    "        service_end_date = service_start_date + service_time\n",
    "        \n",
    "        server_available_dates.append(service_end_date)\n",
    "        server_available_dates.sort()\n",
    "        server_available_dates = server_available_dates[-number_of_staff:]\n",
    "                \n",
    "        wait = service_start_date - now\n",
    "        if wait > limit:\n",
    "            number_over_limit += 1\n",
    "    \n",
    "    return number_over_limit / number_of_customers\n",
    "\n",
    "\n",
    "def get_proportion_waiting_over_limit(\n",
    "    arrival_rate=1.5,\n",
    "    service_rate=0.15,\n",
    "    number_of_staff=10,\n",
    "    limit=0.5,\n",
    "    time_period=31*24,\n",
    "    number_of_repetitions=100,\n",
    "):\n",
    "    \"\"\"\n",
    "    Gives the average proportion of customers waiting over a given limit,\n",
    "    over number_of_repetitions repetitions. The parameters are:\n",
    "    \n",
    "    + arrival_rate\n",
    "    + service_rate\n",
    "    + number_of_staff\n",
    "    + time_period\n",
    "    + limit\n",
    "    + number_of_repetitions\n",
    "    \"\"\"\n",
    "    proportions = []\n",
    "    for repetition in range(number_of_repetitions):\n",
    "        proportions.append(simulate_queue(arrival_rate=arrival_rate, service_rate=service_rate, number_of_staff=number_of_staff, limit=limit, time_period=time_period))\n",
    "    return sum(proportions) / len(proportions)"
   ]
  },
  {
   "cell_type": "code",
   "execution_count": 2,
   "metadata": {},
   "outputs": [
    {
     "data": {
      "text/plain": [
       "0.8426850555949335"
      ]
     },
     "execution_count": 2,
     "metadata": {},
     "output_type": "execute_result"
    }
   ],
   "source": [
    "get_proportion_waiting_over_limit()"
   ]
  },
  {
   "cell_type": "markdown",
   "metadata": {
    "collapsed": true
   },
   "source": [
    "Study the code above, ensure that you understand what it is doing, and how it relates to the overall task of simulating a queue. The image below points out some key Python concepts used in the code:"
   ]
  },
  {
   "cell_type": "markdown",
   "metadata": {},
   "source": [
    "![](/cm/assets/concepts1-diagram-blank.svg)"
   ]
  },
  {
   "cell_type": "markdown",
   "metadata": {},
   "source": [
    "Use the sentences below to fill in the blank boxes in the image above with the sentences below. Match the key concept with some description of its use:"
   ]
  },
  {
   "cell_type": "markdown",
   "metadata": {
    "collapsed": true
   },
   "source": [
    "![](/cm/assets/concepts1-diagram-sentences.svg)"
   ]
  },
  {
   "cell_type": "markdown",
   "metadata": {
    "collapsed": true
   },
   "source": [
    "A print out of these will be given in class.\n",
    "\n",
    "***Complete the task by the next session,*** you may wish to look ahead in the course notes."
   ]
  },
  {
   "cell_type": "raw",
   "metadata": {
    "collapsed": true
   },
   "source": [
    "---\n",
    "\n",
    "[Previous](/cm/chapters/session02/) - [Home](/cm/) - [Next](/cm/chapters/session04/)\n",
    "{:style=\"text-align: right;\"}"
   ]
  },
  {
   "cell_type": "code",
   "execution_count": null,
   "metadata": {
    "collapsed": true
   },
   "outputs": [],
   "source": []
  }
 ],
 "metadata": {
  "kernelspec": {
   "display_name": "Python 3",
   "language": "python",
   "name": "python3"
  },
  "language_info": {
   "codemirror_mode": {
    "name": "ipython",
    "version": 3
   },
   "file_extension": ".py",
   "mimetype": "text/x-python",
   "name": "python",
   "nbconvert_exporter": "python",
   "pygments_lexer": "ipython3",
   "version": "3.5.4"
  }
 },
 "nbformat": 4,
 "nbformat_minor": 2
}
