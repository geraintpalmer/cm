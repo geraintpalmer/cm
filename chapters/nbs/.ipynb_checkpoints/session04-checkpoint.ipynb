{
 "cells": [
  {
   "cell_type": "raw",
   "metadata": {},
   "source": [
    "---\n",
    "layout: page\n",
    "permalink: /chapters/session04/\n",
    "title: Programming Concepts 1 - Excersises\n",
    "---"
   ]
  },
  {
   "cell_type": "markdown",
   "metadata": {},
   "source": [
    "## Goals\n",
    "+ Understand the following programming concepts:\n",
    "  + Variables\n",
    "  + Booleans\n",
    "  + If statements\n",
    "  + While loops\n",
    "  + Lists\n",
    "  + For Loops\n",
    "  + Functions\n",
    "+ Practise using and writing code using these conceps."
   ]
  },
  {
   "cell_type": "markdown",
   "metadata": {},
   "source": [
    "## Variables\n",
    "\n",
    "Variable are pointers to Python objects such as integers, floats or strings.\n",
    "They are defined using `=`, for example:"
   ]
  },
  {
   "cell_type": "code",
   "execution_count": 1,
   "metadata": {
    "collapsed": true
   },
   "outputs": [],
   "source": [
    "my_variable = 6.2"
   ]
  },
  {
   "cell_type": "markdown",
   "metadata": {},
   "source": [
    "We can look at this variable using `print`:"
   ]
  },
  {
   "cell_type": "code",
   "execution_count": 2,
   "metadata": {},
   "outputs": [
    {
     "name": "stdout",
     "output_type": "stream",
     "text": [
      "6.2\n"
     ]
    }
   ],
   "source": [
    "print(my_variable)"
   ]
  },
  {
   "cell_type": "markdown",
   "metadata": {},
   "source": [
    "In Jupyter, sometimes we do not need to use `print` if a variable is written on the final line of the cell, for example:"
   ]
  },
  {
   "cell_type": "code",
   "execution_count": 3,
   "metadata": {},
   "outputs": [
    {
     "data": {
      "text/plain": [
       "6.2"
      ]
     },
     "execution_count": 3,
     "metadata": {},
     "output_type": "execute_result"
    }
   ],
   "source": [
    "my_variable"
   ]
  },
  {
   "cell_type": "markdown",
   "metadata": {},
   "source": [
    "# Question 1\n",
    "a) Create two variables, one representing Alan's current amount of money (£1500), and one representing Alan's monthly wages (£762)."
   ]
  },
  {
   "cell_type": "code",
   "execution_count": 4,
   "metadata": {
    "collapsed": true,
    "tags": [
     "hide"
    ]
   },
   "outputs": [],
   "source": [
    "alans_money = 1500\n",
    "alans_wage = 762"
   ]
  },
  {
   "cell_type": "markdown",
   "metadata": {},
   "source": [
    "b) Alan get's paid. Update the value of the variable representing Alan's money to reflect this."
   ]
  },
  {
   "cell_type": "code",
   "execution_count": 5,
   "metadata": {
    "tags": [
     "hide"
    ]
   },
   "outputs": [
    {
     "data": {
      "text/plain": [
       "2262"
      ]
     },
     "execution_count": 5,
     "metadata": {},
     "output_type": "execute_result"
    }
   ],
   "source": [
    "alans_money += alans_wage\n",
    "alans_money"
   ]
  },
  {
   "cell_type": "markdown",
   "metadata": {},
   "source": [
    "c) Alan has a pay rise. He now earns 10% more than before. Update the value of the variable representing alan's wage to reflect this."
   ]
  },
  {
   "cell_type": "code",
   "execution_count": 6,
   "metadata": {
    "tags": [
     "hide"
    ]
   },
   "outputs": [
    {
     "data": {
      "text/plain": [
       "838.2"
      ]
     },
     "execution_count": 6,
     "metadata": {},
     "output_type": "execute_result"
    }
   ],
   "source": [
    "alans_wage *= 1.1\n",
    "alans_wage"
   ]
  },
  {
   "cell_type": "markdown",
   "metadata": {},
   "source": [
    "# Question 2\n",
    "\n",
    "a) Consider the following code:"
   ]
  },
  {
   "cell_type": "code",
   "execution_count": 7,
   "metadata": {
    "collapsed": true
   },
   "outputs": [],
   "source": [
    "first_name = 'Bianca'\n",
    "middle_name = 'Betty'\n",
    "surname = 'Brown'\n",
    "\n",
    "full_name = first_name + middle_name + surname"
   ]
  },
  {
   "cell_type": "markdown",
   "metadata": {},
   "source": [
    "How would you ensure that the variable `full_name` included spaces between the names?"
   ]
  },
  {
   "cell_type": "code",
   "execution_count": 8,
   "metadata": {
    "tags": [
     "hide"
    ]
   },
   "outputs": [
    {
     "data": {
      "text/plain": [
       "'Bianca Betty Brown'"
      ]
     },
     "execution_count": 8,
     "metadata": {},
     "output_type": "execute_result"
    }
   ],
   "source": [
    "full_name = first_name + ' ' + middle_name + ' ' + surname\n",
    "full_name"
   ]
  },
  {
   "cell_type": "code",
   "execution_count": 9,
   "metadata": {
    "tags": [
     "hide"
    ]
   },
   "outputs": [
    {
     "data": {
      "text/plain": [
       "'Bianca Betty Brown'"
      ]
     },
     "execution_count": 9,
     "metadata": {},
     "output_type": "execute_result"
    }
   ],
   "source": [
    "full_name = ' '.join((first_name, middle_name, surname))\n",
    "full_name"
   ]
  },
  {
   "cell_type": "markdown",
   "metadata": {},
   "source": [
    "b) Create the same four variables to correspond with your own name."
   ]
  },
  {
   "cell_type": "code",
   "execution_count": 10,
   "metadata": {
    "tags": [
     "hide"
    ]
   },
   "outputs": [
    {
     "data": {
      "text/plain": [
       "'Geraint Ian Palmer'"
      ]
     },
     "execution_count": 10,
     "metadata": {},
     "output_type": "execute_result"
    }
   ],
   "source": [
    "first_name = 'Geraint'\n",
    "middle_name = 'Ian'\n",
    "surname = 'Palmer'\n",
    "\n",
    "full_name = ' '.join((first_name, middle_name, surname))\n",
    "full_name"
   ]
  },
  {
   "cell_type": "markdown",
   "metadata": {},
   "source": [
    "## Booleans, If-statements & While-loops"
   ]
  },
  {
   "cell_type": "markdown",
   "metadata": {},
   "source": [
    "Boolean variables can be created from numerical variables using:\n",
    "+ Equality `==`\n",
    "+ Inequality `!=`\n",
    "+ Greater than `>`\n",
    "+ Less than `<`\n",
    "+ Greater than or equal to `>=`\n",
    "+ Less than or equal to `<=`\n",
    "\n",
    "For example:"
   ]
  },
  {
   "cell_type": "code",
   "execution_count": 11,
   "metadata": {},
   "outputs": [
    {
     "data": {
      "text/plain": [
       "False"
      ]
     },
     "execution_count": 11,
     "metadata": {},
     "output_type": "execute_result"
    }
   ],
   "source": [
    "4 > 8"
   ]
  },
  {
   "cell_type": "code",
   "execution_count": 12,
   "metadata": {},
   "outputs": [
    {
     "data": {
      "text/plain": [
       "True"
      ]
     },
     "execution_count": 12,
     "metadata": {},
     "output_type": "execute_result"
    }
   ],
   "source": [
    "4 <= 8"
   ]
  },
  {
   "cell_type": "markdown",
   "metadata": {},
   "source": [
    "# Question 3\n",
    "\n",
    "Create all possible Boolean variables from the numbers 6 and 2.5 (e.g. `6 == 2.5` is a Boolean variable)."
   ]
  },
  {
   "cell_type": "code",
   "execution_count": 13,
   "metadata": {
    "tags": [
     "hide"
    ]
   },
   "outputs": [
    {
     "data": {
      "text/plain": [
       "(False, True, True, False, True, False)"
      ]
     },
     "execution_count": 13,
     "metadata": {},
     "output_type": "execute_result"
    }
   ],
   "source": [
    "6 == 2.5, 6 != 2.5, 6 > 2.5, 6 < 2.5, 6 >= 2.5, 6 <= 2.5"
   ]
  },
  {
   "cell_type": "markdown",
   "metadata": {},
   "source": [
    "# Question 4\n",
    "The following code gives the number of roots to a polynomial $ax^2 + bx + c$ with coefficients `a`, `b` and `c` respectively."
   ]
  },
  {
   "cell_type": "code",
   "execution_count": 14,
   "metadata": {},
   "outputs": [
    {
     "data": {
      "text/plain": [
       "0"
      ]
     },
     "execution_count": 14,
     "metadata": {},
     "output_type": "execute_result"
    }
   ],
   "source": [
    "a = 1\n",
    "b = 1\n",
    "c = 1\n",
    "\n",
    "discriminant = (b ** 2) - (4 * a * c)\n",
    "\n",
    "if discriminant < 0:\n",
    "    number_of_roots = 0\n",
    "if discriminant == 0:\n",
    "    number_of_roots = 1\n",
    "if discriminant > 0:\n",
    "    number_of_roots = 2\n",
    "\n",
    "number_of_roots"
   ]
  },
  {
   "cell_type": "markdown",
   "metadata": {},
   "source": [
    "Use the above code to find the numbers of roots to the following polynomials:\n",
    "\n",
    "a) $x^2 - 3x + 4$"
   ]
  },
  {
   "cell_type": "code",
   "execution_count": 15,
   "metadata": {
    "tags": [
     "hide"
    ]
   },
   "outputs": [
    {
     "data": {
      "text/plain": [
       "0"
      ]
     },
     "execution_count": 15,
     "metadata": {},
     "output_type": "execute_result"
    }
   ],
   "source": [
    "a = 1\n",
    "b = -3\n",
    "c = 4\n",
    "\n",
    "discriminant = (b ** 2) - (4 * a * c)\n",
    "\n",
    "if discriminant < 0:\n",
    "    number_of_roots = 0\n",
    "if discriminant == 0:\n",
    "    number_of_roots = 1\n",
    "if discriminant > 0:\n",
    "    number_of_roots = 2\n",
    "\n",
    "number_of_roots"
   ]
  },
  {
   "cell_type": "markdown",
   "metadata": {},
   "source": [
    "b) $2x^2 - 10x + 1$"
   ]
  },
  {
   "cell_type": "code",
   "execution_count": 16,
   "metadata": {
    "tags": [
     "hide"
    ]
   },
   "outputs": [
    {
     "data": {
      "text/plain": [
       "2"
      ]
     },
     "execution_count": 16,
     "metadata": {},
     "output_type": "execute_result"
    }
   ],
   "source": [
    "a = 2\n",
    "b = -10\n",
    "c = 1\n",
    "\n",
    "discriminant = (b ** 2) - (4 * a * c)\n",
    "\n",
    "if discriminant < 0:\n",
    "    number_of_roots = 0\n",
    "if discriminant == 0:\n",
    "    number_of_roots = 1\n",
    "if discriminant > 0:\n",
    "    number_of_roots = 2\n",
    "\n",
    "number_of_roots"
   ]
  },
  {
   "cell_type": "markdown",
   "metadata": {},
   "source": [
    "c) $4x^2 + 4x + 1$"
   ]
  },
  {
   "cell_type": "code",
   "execution_count": 17,
   "metadata": {
    "tags": [
     "hide"
    ]
   },
   "outputs": [
    {
     "data": {
      "text/plain": [
       "1"
      ]
     },
     "execution_count": 17,
     "metadata": {},
     "output_type": "execute_result"
    }
   ],
   "source": [
    "a = 4\n",
    "b = 4\n",
    "c = 1\n",
    "\n",
    "discriminant = (b ** 2) - (4 * a * c)\n",
    "\n",
    "if discriminant < 0:\n",
    "    number_of_roots = 0\n",
    "if discriminant == 0:\n",
    "    number_of_roots = 1\n",
    "if discriminant > 0:\n",
    "    number_of_roots = 2\n",
    "\n",
    "number_of_roots"
   ]
  },
  {
   "cell_type": "markdown",
   "metadata": {},
   "source": [
    "d) $-7x^2 + 7x - 7$"
   ]
  },
  {
   "cell_type": "code",
   "execution_count": 18,
   "metadata": {
    "tags": [
     "hide"
    ]
   },
   "outputs": [
    {
     "data": {
      "text/plain": [
       "0"
      ]
     },
     "execution_count": 18,
     "metadata": {},
     "output_type": "execute_result"
    }
   ],
   "source": [
    "a = -7\n",
    "b = 7\n",
    "c = -7\n",
    "\n",
    "discriminant = (b ** 2) - (4 * a * c)\n",
    "\n",
    "if discriminant < 0:\n",
    "    number_of_roots = 0\n",
    "if discriminant == 0:\n",
    "    number_of_roots = 1\n",
    "if discriminant > 0:\n",
    "    number_of_roots = 2\n",
    "\n",
    "number_of_roots"
   ]
  },
  {
   "cell_type": "markdown",
   "metadata": {},
   "source": [
    "# Question 5\n",
    "\n",
    "Write some code that assigns a value to the variable `v` according to the Heavyside function:\n",
    "\n",
    "$\n",
    "H(x) = \\begin{cases}\n",
    "0 & \\text{ if } x < 0\\\\\n",
    "0.5 & \\text{ if } x = 0\\\\\n",
    "1 & \\text{ otherwise.}\n",
    "\\end{cases}\n",
    "$"
   ]
  },
  {
   "cell_type": "code",
   "execution_count": 19,
   "metadata": {
    "collapsed": true,
    "tags": [
     "hide"
    ]
   },
   "outputs": [],
   "source": [
    "x = 0.7\n",
    "if x < 0:\n",
    "    v = 0\n",
    "elif x == 0:\n",
    "    v = 0.5\n",
    "else:\n",
    "    v = 1"
   ]
  },
  {
   "cell_type": "markdown",
   "metadata": {},
   "source": [
    "# Question 6\n",
    "An if-statement checks a Boolean, and runs the next indented bit of code if the Boolean is True. A while-loop checks a Boolean, and repeats the next indented bit of code *until* the Boolean becomes False.\n",
    "\n",
    "The following code will run 10 times:"
   ]
  },
  {
   "cell_type": "code",
   "execution_count": 20,
   "metadata": {},
   "outputs": [
    {
     "name": "stdout",
     "output_type": "stream",
     "text": [
      "I have run 1 times.\n",
      "I have run 2 times.\n",
      "I have run 3 times.\n",
      "I have run 4 times.\n",
      "I have run 5 times.\n",
      "I have run 6 times.\n",
      "I have run 7 times.\n",
      "I have run 8 times.\n",
      "I have run 9 times.\n",
      "I have run 10 times.\n"
     ]
    }
   ],
   "source": [
    "n = 0\n",
    "while n < 10:\n",
    "    n += 1\n",
    "    print('I have run ' + str(n) + ' times.')"
   ]
  },
  {
   "cell_type": "markdown",
   "metadata": {},
   "source": [
    "Find two different ways of adapting the code so that it only runs 5 times."
   ]
  },
  {
   "cell_type": "code",
   "execution_count": 21,
   "metadata": {
    "tags": [
     "hide"
    ]
   },
   "outputs": [
    {
     "name": "stdout",
     "output_type": "stream",
     "text": [
      "I have run 1 times.\n",
      "I have run 2 times.\n",
      "I have run 3 times.\n",
      "I have run 4 times.\n",
      "I have run 5 times.\n"
     ]
    }
   ],
   "source": [
    "n = 0\n",
    "while n < 5:\n",
    "    n += 1\n",
    "    print('I have run ' + str(n) + ' times.')"
   ]
  },
  {
   "cell_type": "code",
   "execution_count": 22,
   "metadata": {
    "tags": [
     "hide"
    ]
   },
   "outputs": [
    {
     "name": "stdout",
     "output_type": "stream",
     "text": [
      "I have run 2 times.\n",
      "I have run 4 times.\n",
      "I have run 6 times.\n",
      "I have run 8 times.\n",
      "I have run 10 times.\n"
     ]
    }
   ],
   "source": [
    "n = 0\n",
    "while n < 10:\n",
    "    n += 2\n",
    "    print('I have run ' + str(n) + ' times.')"
   ]
  },
  {
   "cell_type": "markdown",
   "metadata": {},
   "source": [
    "# Question 7\n",
    "The code below verifies the following identity for $n = 20$:\n",
    "\n",
    "$\n",
    "\\sum_{i=0}^{n} i^2 = \\frac{n(n+1)(2n+1)}{6}\n",
    "$"
   ]
  },
  {
   "cell_type": "code",
   "execution_count": 23,
   "metadata": {},
   "outputs": [
    {
     "data": {
      "text/plain": [
       "True"
      ]
     },
     "execution_count": 23,
     "metadata": {},
     "output_type": "execute_result"
    }
   ],
   "source": [
    "n = 20\n",
    "rhs = n * (n +  1) * (2 * n + 1) / 6\n",
    "lhs = 0\n",
    "i = 0\n",
    "while i < n:\n",
    "    i += 1\n",
    "    lhs += i ** 2\n",
    "lhs == rhs"
   ]
  },
  {
   "cell_type": "markdown",
   "metadata": {},
   "source": [
    "Using a while-loop, verify this identity for every interger value of $n$ below 100."
   ]
  },
  {
   "cell_type": "code",
   "execution_count": 24,
   "metadata": {
    "collapsed": true,
    "tags": [
     "hide"
    ]
   },
   "outputs": [],
   "source": [
    "max_n = 100\n",
    "n = 0\n",
    "while n < max_n:\n",
    "    n += 1\n",
    "    rhs = n * (n +  1) * (2 * n + 1) / 6\n",
    "    lhs = 0\n",
    "    i = 0\n",
    "    while i < n:\n",
    "        i += 1\n",
    "        lhs += i ** 2\n",
    "    if lhs != rhs:      \n",
    "        print(False)"
   ]
  },
  {
   "cell_type": "markdown",
   "metadata": {},
   "source": [
    "# Question 8\n",
    "In the same way as in Question 7, verify the following identity for the first 250 integers:\n",
    "\n",
    "$\n",
    "\\sum_{i=0}^{n} i^3 = \\frac{\\left(n^2 + n\\right)^2}{4}\n",
    "$"
   ]
  },
  {
   "cell_type": "code",
   "execution_count": 25,
   "metadata": {
    "collapsed": true,
    "tags": [
     "hide"
    ]
   },
   "outputs": [],
   "source": [
    "max_n = 250\n",
    "n = 0\n",
    "while n < max_n:\n",
    "    n += 1\n",
    "    rhs = (n ** 2 + n) ** 2 / 4\n",
    "    lhs = 0\n",
    "    i = 0\n",
    "    while i < n:\n",
    "        i += 1\n",
    "        lhs += i ** 3\n",
    "    if lhs != rhs:      \n",
    "        print(False)"
   ]
  },
  {
   "cell_type": "markdown",
   "metadata": {},
   "source": [
    "## Lists and For-loops\n",
    "\n",
    "Lists are ordered containers pointing to variables, defined with square brackets `a = [1, 1, 7]`. There are a number of operations we can use on lists, including `len(a)`, `max(a)`, `min(a)`, and `sorted(a)`. Elements of lists can be chosen by indexing, e.g. the first element of a list is `a[0]`, the second from last is `a[-2]`, and so on.\n"
   ]
  },
  {
   "cell_type": "markdown",
   "metadata": {},
   "source": [
    "# Question 9\n",
    "\n",
    "a) In no particular order, create a list of 8 of your favourite numbers.\n",
    "\n",
    "b) Find the maximum value in the list.\n",
    "\n",
    "c) Find the minimum value in the list.\n",
    "\n",
    "d) Find the length of the list.\n",
    "\n",
    "e) Sort the list.\n",
    "\n",
    "f) Find the 2nd element in the list.\n",
    "\n",
    "g) Find the last element in the list.\n",
    "\n",
    "h) Find the 3rd to 6th elements in the list."
   ]
  },
  {
   "cell_type": "code",
   "execution_count": 26,
   "metadata": {
    "collapsed": true,
    "tags": [
     "hide"
    ]
   },
   "outputs": [],
   "source": [
    "favourite_numbers = [67, 3, 2, 22, 7, 17, 91, 103]"
   ]
  },
  {
   "cell_type": "code",
   "execution_count": 27,
   "metadata": {
    "tags": [
     "hide"
    ]
   },
   "outputs": [
    {
     "data": {
      "text/plain": [
       "103"
      ]
     },
     "execution_count": 27,
     "metadata": {},
     "output_type": "execute_result"
    }
   ],
   "source": [
    "max(favourite_numbers)"
   ]
  },
  {
   "cell_type": "code",
   "execution_count": 28,
   "metadata": {
    "tags": [
     "hide"
    ]
   },
   "outputs": [
    {
     "data": {
      "text/plain": [
       "2"
      ]
     },
     "execution_count": 28,
     "metadata": {},
     "output_type": "execute_result"
    }
   ],
   "source": [
    "min(favourite_numbers)"
   ]
  },
  {
   "cell_type": "code",
   "execution_count": 29,
   "metadata": {
    "tags": [
     "hide"
    ]
   },
   "outputs": [
    {
     "data": {
      "text/plain": [
       "8"
      ]
     },
     "execution_count": 29,
     "metadata": {},
     "output_type": "execute_result"
    }
   ],
   "source": [
    "len(favourite_numbers)"
   ]
  },
  {
   "cell_type": "code",
   "execution_count": 30,
   "metadata": {
    "tags": [
     "hide"
    ]
   },
   "outputs": [
    {
     "data": {
      "text/plain": [
       "[2, 3, 7, 17, 22, 67, 91, 103]"
      ]
     },
     "execution_count": 30,
     "metadata": {},
     "output_type": "execute_result"
    }
   ],
   "source": [
    "sorted(favourite_numbers)"
   ]
  },
  {
   "cell_type": "code",
   "execution_count": 31,
   "metadata": {
    "tags": [
     "hide"
    ]
   },
   "outputs": [
    {
     "data": {
      "text/plain": [
       "3"
      ]
     },
     "execution_count": 31,
     "metadata": {},
     "output_type": "execute_result"
    }
   ],
   "source": [
    "favourite_numbers[1]"
   ]
  },
  {
   "cell_type": "code",
   "execution_count": 32,
   "metadata": {
    "tags": [
     "hide"
    ]
   },
   "outputs": [
    {
     "data": {
      "text/plain": [
       "103"
      ]
     },
     "execution_count": 32,
     "metadata": {},
     "output_type": "execute_result"
    }
   ],
   "source": [
    "favourite_numbers[-1]"
   ]
  },
  {
   "cell_type": "code",
   "execution_count": 33,
   "metadata": {
    "tags": [
     "hide"
    ]
   },
   "outputs": [
    {
     "data": {
      "text/plain": [
       "[2, 22, 7, 17, 91]"
      ]
     },
     "execution_count": 33,
     "metadata": {},
     "output_type": "execute_result"
    }
   ],
   "source": [
    "favourite_numbers[2:7]"
   ]
  },
  {
   "cell_type": "markdown",
   "metadata": {},
   "source": [
    "# Question 10\n",
    "Items can be added to the back of a list using `.append(`:"
   ]
  },
  {
   "cell_type": "code",
   "execution_count": 34,
   "metadata": {},
   "outputs": [
    {
     "data": {
      "text/plain": [
       "[3, 4, 1, 10]"
      ]
     },
     "execution_count": 34,
     "metadata": {},
     "output_type": "execute_result"
    }
   ],
   "source": [
    "some_numbers = [3, 4, 1]\n",
    "some_numbers.append(10)\n",
    "some_numbers"
   ]
  },
  {
   "cell_type": "markdown",
   "metadata": {},
   "source": [
    "The following code uses a while loop to create a list of the first 10 square numbers:"
   ]
  },
  {
   "cell_type": "code",
   "execution_count": 35,
   "metadata": {},
   "outputs": [
    {
     "data": {
      "text/plain": [
       "[1, 4, 9, 16, 25, 36, 49, 64, 81, 100]"
      ]
     },
     "execution_count": 35,
     "metadata": {},
     "output_type": "execute_result"
    }
   ],
   "source": [
    "square_numbers = []\n",
    "x = 1\n",
    "while x <= 10:\n",
    "    square_numbers.append(x ** 2)\n",
    "    x += 1\n",
    "\n",
    "square_numbers"
   ]
  },
  {
   "cell_type": "markdown",
   "metadata": {},
   "source": [
    "Adapt the code above so that it gives a list of the first 15 square numbers that are even."
   ]
  },
  {
   "cell_type": "code",
   "execution_count": 36,
   "metadata": {
    "tags": [
     "hide"
    ]
   },
   "outputs": [
    {
     "data": {
      "text/plain": [
       "[4, 16, 36, 64, 100, 144, 196, 256, 324, 400, 484, 576, 676, 784, 900, 1024]"
      ]
     },
     "execution_count": 36,
     "metadata": {},
     "output_type": "execute_result"
    }
   ],
   "source": [
    "even_square_numbers = []\n",
    "x = 1\n",
    "count = 0\n",
    "while count <= 15:\n",
    "    if x ** 2 % 2 == 0:\n",
    "        even_square_numbers.append(x ** 2)\n",
    "        count += 1\n",
    "    x += 1\n",
    "\n",
    "even_square_numbers"
   ]
  },
  {
   "cell_type": "markdown",
   "metadata": {},
   "source": [
    "# Question 11\n",
    "For loops allow up to repeat code for every item in a list. Let's print the square root of each of the numbers in the list `square_numbers`:"
   ]
  },
  {
   "cell_type": "code",
   "execution_count": 37,
   "metadata": {},
   "outputs": [
    {
     "name": "stdout",
     "output_type": "stream",
     "text": [
      "1.0\n",
      "2.0\n",
      "3.0\n",
      "4.0\n",
      "5.0\n",
      "6.0\n",
      "7.0\n",
      "8.0\n",
      "9.0\n",
      "10.0\n"
     ]
    }
   ],
   "source": [
    "for n in square_numbers:\n",
    "    print(n ** 0.5)"
   ]
  },
  {
   "cell_type": "markdown",
   "metadata": {},
   "source": [
    "You can also use a for loop to repeat code over anything iterable, such as strings:"
   ]
  },
  {
   "cell_type": "code",
   "execution_count": 38,
   "metadata": {},
   "outputs": [
    {
     "name": "stdout",
     "output_type": "stream",
     "text": [
      "Gimmie a G.\n",
      "Gimmie a E.\n",
      "Gimmie a R.\n",
      "Gimmie a A.\n",
      "Gimmie a I.\n",
      "Gimmie a N.\n",
      "Gimmie a T.\n"
     ]
    }
   ],
   "source": [
    "name = 'GERAINT'\n",
    "for letter in name:\n",
    "    print('Gimmie a ' + letter + '.')"
   ]
  },
  {
   "cell_type": "markdown",
   "metadata": {},
   "source": [
    "Or if you don't have a list ready, the `range` command gives an iterable:"
   ]
  },
  {
   "cell_type": "code",
   "execution_count": 39,
   "metadata": {},
   "outputs": [
    {
     "name": "stdout",
     "output_type": "stream",
     "text": [
      "0\n",
      "1\n",
      "2\n",
      "3\n",
      "4\n",
      "5\n",
      "6\n",
      "7\n"
     ]
    }
   ],
   "source": [
    "for number in range(8):\n",
    "    print(number)"
   ]
  },
  {
   "cell_type": "markdown",
   "metadata": {},
   "source": [
    "Rewrite the code for Question 8, using for loops instead of while loops."
   ]
  },
  {
   "cell_type": "code",
   "execution_count": 40,
   "metadata": {
    "collapsed": true,
    "tags": [
     "hide"
    ]
   },
   "outputs": [],
   "source": [
    "max_n = 250\n",
    "for n in range(max_n):\n",
    "    rhs = (n ** 2 + n) ** 2 / 4\n",
    "    lhs = 0\n",
    "    i = 0\n",
    "    for i in range(1, n + 1):\n",
    "        lhs += i ** 3\n",
    "    if lhs != rhs:      \n",
    "        print(False)"
   ]
  },
  {
   "cell_type": "markdown",
   "metadata": {},
   "source": [
    "## Functions"
   ]
  },
  {
   "cell_type": "markdown",
   "metadata": {},
   "source": [
    "Functions are executable pieces of code, that can be used on demand. They are themselves variables, defined using `def`. They are useful to avoid repeating writing code.\n",
    "\n",
    "Below is a function that finds the number of roots of a quadratic polynomial (see Question 4):"
   ]
  },
  {
   "cell_type": "code",
   "execution_count": 41,
   "metadata": {
    "collapsed": true
   },
   "outputs": [],
   "source": [
    "def find_number_of_roots(a, b, c):\n",
    "    discriminant = (b ** 2) - (4 * a * c)\n",
    "    if discriminant < 0:\n",
    "        return 0\n",
    "    if discriminant == 0:\n",
    "        return 1\n",
    "    if discriminant > 0:\n",
    "        return 2"
   ]
  },
  {
   "cell_type": "markdown",
   "metadata": {},
   "source": [
    "This function works similar to a mathematical function, it takes three arguments, `a`, `b`, and `c`, the inputs. It gives one output, given by the `return` command. *As soon as the code hits `return` the function stops running*.\n",
    "\n",
    "Now answering questions 4a) - 4d) is much easier, we simply call this function:"
   ]
  },
  {
   "cell_type": "code",
   "execution_count": 42,
   "metadata": {},
   "outputs": [
    {
     "data": {
      "text/plain": [
       "0"
      ]
     },
     "execution_count": 42,
     "metadata": {},
     "output_type": "execute_result"
    }
   ],
   "source": [
    "find_number_of_roots(1, -3, 4)"
   ]
  },
  {
   "cell_type": "code",
   "execution_count": 43,
   "metadata": {},
   "outputs": [
    {
     "data": {
      "text/plain": [
       "2"
      ]
     },
     "execution_count": 43,
     "metadata": {},
     "output_type": "execute_result"
    }
   ],
   "source": [
    "find_number_of_roots(2, -10, 1)"
   ]
  },
  {
   "cell_type": "code",
   "execution_count": 44,
   "metadata": {},
   "outputs": [
    {
     "data": {
      "text/plain": [
       "1"
      ]
     },
     "execution_count": 44,
     "metadata": {},
     "output_type": "execute_result"
    }
   ],
   "source": [
    "find_number_of_roots(4, 4, 1)"
   ]
  },
  {
   "cell_type": "code",
   "execution_count": 45,
   "metadata": {},
   "outputs": [
    {
     "data": {
      "text/plain": [
       "0"
      ]
     },
     "execution_count": 45,
     "metadata": {},
     "output_type": "execute_result"
    }
   ],
   "source": [
    "find_number_of_roots(-7, 7, -7)"
   ]
  },
  {
   "cell_type": "markdown",
   "metadata": {},
   "source": [
    "# Question 12\n",
    "\n",
    "Write the Heaveyside function (Question 5) as a Python function, and use it to evaluate $H(-4)$, $H(7)$, $H(3.14)$, and $H(0)$."
   ]
  },
  {
   "cell_type": "code",
   "execution_count": 46,
   "metadata": {
    "collapsed": true,
    "tags": [
     "hide"
    ]
   },
   "outputs": [],
   "source": [
    "def heavyside(x):\n",
    "    if x < 0:\n",
    "        return 0\n",
    "    if x == 0:\n",
    "        return 0.5\n",
    "    return 1"
   ]
  },
  {
   "cell_type": "code",
   "execution_count": 47,
   "metadata": {
    "tags": [
     "hide"
    ]
   },
   "outputs": [
    {
     "data": {
      "text/plain": [
       "0"
      ]
     },
     "execution_count": 47,
     "metadata": {},
     "output_type": "execute_result"
    }
   ],
   "source": [
    "heavyside(-4)"
   ]
  },
  {
   "cell_type": "code",
   "execution_count": 48,
   "metadata": {
    "tags": [
     "hide"
    ]
   },
   "outputs": [
    {
     "data": {
      "text/plain": [
       "1"
      ]
     },
     "execution_count": 48,
     "metadata": {},
     "output_type": "execute_result"
    }
   ],
   "source": [
    "heavyside(7)"
   ]
  },
  {
   "cell_type": "code",
   "execution_count": 49,
   "metadata": {
    "tags": [
     "hide"
    ]
   },
   "outputs": [
    {
     "data": {
      "text/plain": [
       "1"
      ]
     },
     "execution_count": 49,
     "metadata": {},
     "output_type": "execute_result"
    }
   ],
   "source": [
    "heavyside(3.14)"
   ]
  },
  {
   "cell_type": "code",
   "execution_count": 50,
   "metadata": {
    "tags": [
     "hide"
    ]
   },
   "outputs": [
    {
     "data": {
      "text/plain": [
       "0.5"
      ]
     },
     "execution_count": 50,
     "metadata": {},
     "output_type": "execute_result"
    }
   ],
   "source": [
    "heavyside(0)"
   ]
  },
  {
   "cell_type": "markdown",
   "metadata": {},
   "source": [
    "# Question 13\n",
    "Write a function that checks the following identity for any given $n$:\n",
    "\n",
    "$\n",
    "\\sum_{i=0}^{n} i^2 = \\frac{n(n+1)(2n+1)}{6}\n",
    "$"
   ]
  },
  {
   "cell_type": "code",
   "execution_count": 51,
   "metadata": {
    "collapsed": true,
    "tags": [
     "hide"
    ]
   },
   "outputs": [],
   "source": [
    "def check_identity(n):\n",
    "    rhs = n * (n +  1) * (2 * n + 1) / 6\n",
    "    lhs = 0\n",
    "    i = 0\n",
    "    while i < n:\n",
    "        i += 1\n",
    "        lhs += i ** 2\n",
    "    return lhs == rhs"
   ]
  },
  {
   "cell_type": "markdown",
   "metadata": {},
   "source": [
    "# Question 14\n",
    "This question asks you to write functions that do the following things:\n",
    "\n",
    "a) Takes a list of elements and outputs the same list in reverse,\n",
    "\n",
    "b) Checks is a number if prime,\n",
    "\n",
    "c) Counts the number of prime numbers below a given limit,\n",
    "\n",
    "d) Creates a list of the first $m$ prime numbers."
   ]
  },
  {
   "cell_type": "code",
   "execution_count": 52,
   "metadata": {
    "collapsed": true,
    "tags": [
     "hide"
    ]
   },
   "outputs": [],
   "source": [
    "def reverse_list(a_list):\n",
    "    new_list = []\n",
    "    for i in range(1, len(a_list) + 1):\n",
    "        new_list.append(a_list[-i])\n",
    "    return new_list"
   ]
  },
  {
   "cell_type": "code",
   "execution_count": 53,
   "metadata": {
    "tags": [
     "hide"
    ]
   },
   "outputs": [
    {
     "data": {
      "text/plain": [
       "['t', 1, 1, 3, 2]"
      ]
     },
     "execution_count": 53,
     "metadata": {},
     "output_type": "execute_result"
    }
   ],
   "source": [
    "reverse_list([2, 3, 1, 1, 't'])"
   ]
  },
  {
   "cell_type": "code",
   "execution_count": 54,
   "metadata": {
    "collapsed": true,
    "tags": [
     "hide"
    ]
   },
   "outputs": [],
   "source": [
    "def check_prime(n):\n",
    "    if n == 1 or n == 0:\n",
    "        return False\n",
    "    for i in range(2, n):\n",
    "        if n % i == 0:\n",
    "            return False\n",
    "    return True"
   ]
  },
  {
   "cell_type": "code",
   "execution_count": 55,
   "metadata": {
    "tags": [
     "hide"
    ]
   },
   "outputs": [
    {
     "data": {
      "text/plain": [
       "True"
      ]
     },
     "execution_count": 55,
     "metadata": {},
     "output_type": "execute_result"
    }
   ],
   "source": [
    "check_prime(5)"
   ]
  },
  {
   "cell_type": "code",
   "execution_count": 56,
   "metadata": {
    "collapsed": true,
    "tags": [
     "hide"
    ]
   },
   "outputs": [],
   "source": [
    "def number_of_primes_below_limit(limit):\n",
    "    count = 0\n",
    "    for i in range(limit):\n",
    "        if check_prime(i):\n",
    "            count += 1\n",
    "    return count"
   ]
  },
  {
   "cell_type": "code",
   "execution_count": 57,
   "metadata": {
    "tags": [
     "hide"
    ]
   },
   "outputs": [
    {
     "data": {
      "text/plain": [
       "4"
      ]
     },
     "execution_count": 57,
     "metadata": {},
     "output_type": "execute_result"
    }
   ],
   "source": [
    "number_of_primes_below_limit(10)"
   ]
  },
  {
   "cell_type": "code",
   "execution_count": 58,
   "metadata": {
    "collapsed": true,
    "tags": [
     "hide"
    ]
   },
   "outputs": [],
   "source": [
    "def list_of_m_primes(m):\n",
    "    primes = []\n",
    "    n = 0\n",
    "    while len(primes) < m:\n",
    "        if check_prime(n):\n",
    "            primes.append(n)\n",
    "        n += 1\n",
    "    return primes"
   ]
  },
  {
   "cell_type": "code",
   "execution_count": 59,
   "metadata": {
    "tags": [
     "hide"
    ]
   },
   "outputs": [
    {
     "data": {
      "text/plain": [
       "[2, 3, 5, 7, 11, 13, 17]"
      ]
     },
     "execution_count": 59,
     "metadata": {},
     "output_type": "execute_result"
    }
   ],
   "source": [
    "list_of_m_primes(7)"
   ]
  },
  {
   "cell_type": "raw",
   "metadata": {
    "collapsed": true
   },
   "source": [
    "---\n",
    "\n",
    "[Previous](/cm/chapters/session03/) - [Home](/cm/) - [Next](/cm/chapters/session05/)\n",
    "{:style=\"text-align: right;\"}"
   ]
  },
  {
   "cell_type": "code",
   "execution_count": null,
   "metadata": {
    "collapsed": true
   },
   "outputs": [],
   "source": []
  }
 ],
 "metadata": {
  "celltoolbar": "Tags",
  "kernelspec": {
   "display_name": "Python 3",
   "language": "python",
   "name": "python3"
  },
  "language_info": {
   "codemirror_mode": {
    "name": "ipython",
    "version": 3
   },
   "file_extension": ".py",
   "mimetype": "text/x-python",
   "name": "python",
   "nbconvert_exporter": "python",
   "pygments_lexer": "ipython3",
   "version": "3.5.4"
  }
 },
 "nbformat": 4,
 "nbformat_minor": 2
}
