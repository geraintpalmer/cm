{
 "cells": [
  {
   "cell_type": "raw",
   "metadata": {},
   "source": [
    "---\n",
    "layout: page\n",
    "permalink: /chapters/session01/\n",
    "---"
   ]
  },
  {
   "cell_type": "markdown",
   "metadata": {},
   "source": [
    "# Goals\n",
    "\n",
    "+ Download and install Anaconda, either on a university machine or your personal computer if you have one.\n",
    "+ Use pre-written code to solve a problem for Shed Josie."
   ]
  },
  {
   "cell_type": "markdown",
   "metadata": {},
   "source": [
    "# Using Jupyter\n",
    "\n",
    "+ If you are using a university computer, all relevant software will already be installed.\n",
    "+ If you are using your own computer you will need to have installed the Anaconda software on your machine. [Please follow the instructions at he bottom of this page](/session00/).\n",
    "+ On both university computers and your own machine, you will need to install the `Ciw` Python package. Do this (after installing anaconda), by opening up your command prompt and typing:\n",
    "\n",
    "  + `pip install ciw` or\n",
    "  + `pip install --user ciw` on a university computer.\n",
    "  \n",
    "  Tutors will be around to help with this.\n",
    "\n",
    "One the software is installed you will need to launch the software.\n",
    "Double click on 'Anaconda Navigator':\n",
    "\n",
    "<img src=\"/cm/assets/navigator.png\" width=\"70\">{: .center-image }\n",
    "\n",
    "To write and run Python code, we will be using 'Jupyter Notebooks'. These are just one way to use Python, but is a popular tool when conducting data analysis, and is great for learning the language.\n",
    "Launch Jupyter:\n",
    "\n",
    "<img src=\"/cm/assets/jupyter.png\" width=\"70\">{: .center-image }\n",
    "\n",
    "  + This will launch a local server in a web browser. *It is not connected to the internet*, and will still work if you are not connected to the web.\n",
    "  + A notebook contains a number of 'cells', in which code can be written and then run. After the cell is run, any output will be displayed below the cell.\n",
    "  + In a cell type `2 + 2`.\n",
    "  + In order to run this cell click on the 'run cell' button on the top menu bar:\n",
    "\n",
    "  <img src=\"/cm/assets/run.png\" width=\"500\">{: .center-image }\n",
    "\n",
    "  \n",
    "  + You can also run cells by pressing the `shift`+`return` keys together.\n",
    "  + You should see the relevant output displayed below.\n",
    "  + To manually create a new cell, click on the 'insert new cell' button on the top menu bar:\n",
    "  \n",
    "  <img src=\"/cm/assets/new-cell.png\" width=\"500\">{: .center-image }\n",
    "\n",
    "Now you are ready to begin using code!"
   ]
  },
  {
   "cell_type": "markdown",
   "metadata": {},
   "source": [
    "# Shed Josie\n",
    "\n",
    "Shed Josie is a chain of garden stores based in Grenoble. Customers arrive and join a queue to be served at a counter. When a staff member is available they begin serving the customer at the front of the queue."
   ]
  },
  {
   "cell_type": "markdown",
   "metadata": {},
   "source": [
    "[Queue diagram]"
   ]
  },
  {
   "cell_type": "markdown",
   "metadata": {},
   "source": [
    "At the Rue de Paris store, customers on average arrive at a rate of 1.5 per hour, and are served ar a rate of 0.15 per hour. There are 10 members of staff on duty.\n",
    "They have recently had a number of complaints as some of customers are waiting longer than half an hour to be served.\n",
    "\n",
    "Upper management would like to know how many servers are needed in order to ensure the number of customers waiting longer than half an hour falls below 1%."
   ]
  },
  {
   "cell_type": "markdown",
   "metadata": {},
   "source": [
    "Using code\n",
    "==========\n",
    "\n",
    "The code below defines a Python function that can be used to calculate the proportion of customers in a given `time_period` that wait longer than a given `limit`:"
   ]
  },
  {
   "cell_type": "code",
   "execution_count": 1,
   "metadata": {
    "collapsed": true
   },
   "outputs": [],
   "source": [
    "import ciw\n",
    "\n",
    "def get_proportion_waiting_over_limit(arrival_rate=1.5, service_rate=0.15, number_of_staff=2, limit=0.5, time_period=14*24, number_of_repetitions=100):\n",
    "    N = ciw.create_network(arrival_distributions=[ciw.dists.Exponential(arrival_rate)], service_distributions=[ciw.dists.Exponential(service_rate)], number_of_servers=[number_of_staff])\n",
    "    proportions = []\n",
    "    for repetition in range(number_of_repetitions):\n",
    "        ciw.seed(repetition)\n",
    "        Q = ciw.Simulation(N)\n",
    "        Q.simulate_until_max_time(time_period)\n",
    "        all_recs = Q.get_all_records()\n",
    "        over_limit = [r.waiting_time > limit for r in all_recs]\n",
    "        proportions.append(sum(over_limit) / len(all_recs))\n",
    "    return sum(proportions) / len(proportions)"
   ]
  },
  {
   "cell_type": "markdown",
   "metadata": {},
   "source": [
    "Copy this code into a new cell and run that cell.\n",
    "This function is a pre written function that you will usw to answer the questions below.\n",
    "Once the cell is run, that function will be in memory and available to use:"
   ]
  },
  {
   "cell_type": "markdown",
   "metadata": {
    "collapsed": true
   },
   "source": [
    "## Question 1\n",
    "\n",
    "Under the current system, managers believe that 78% of customers are waiting longer than 1 hour. The following code shows this."
   ]
  },
  {
   "cell_type": "code",
   "execution_count": 2,
   "metadata": {},
   "outputs": [
    {
     "data": {
      "text/plain": [
       "0.7819238389315349"
      ]
     },
     "execution_count": 2,
     "metadata": {},
     "output_type": "execute_result"
    }
   ],
   "source": [
    "get_proportion_waiting_over_limit(number_of_staff=10, limit=0.5)"
   ]
  },
  {
   "cell_type": "markdown",
   "metadata": {},
   "source": [
    "## Question 2\n",
    "\n",
    "If Shed Josie put on four extra members of staff, what proportion of the customers would wait longer than half an hour?"
   ]
  },
  {
   "cell_type": "code",
   "execution_count": 3,
   "metadata": {
    "tags": [
     "hide"
    ]
   },
   "outputs": [
    {
     "data": {
      "text/plain": [
       "0.11225308843970443"
      ]
     },
     "execution_count": 3,
     "metadata": {},
     "output_type": "execute_result"
    }
   ],
   "source": [
    "get_proportion_waiting_over_limit(number_of_staff=14, limit=0.5)"
   ]
  },
  {
   "cell_type": "markdown",
   "metadata": {},
   "source": [
    "## Question 3\n",
    "\n",
    "In this scenario, what proportion of the customers wait longer than fifteen minutes?"
   ]
  },
  {
   "cell_type": "code",
   "execution_count": 4,
   "metadata": {
    "tags": [
     "hide"
    ]
   },
   "outputs": [
    {
     "data": {
      "text/plain": [
       "0.1319650369686881"
      ]
     },
     "execution_count": 4,
     "metadata": {},
     "output_type": "execute_result"
    }
   ],
   "source": [
    "get_proportion_waiting_over_limit(number_of_staff=14, limit=0.25)"
   ]
  },
  {
   "cell_type": "markdown",
   "metadata": {},
   "source": [
    "## Question 4\n",
    "\n",
    "Experiment with a number of scenarios and determine the least number of staff required such that no more than 1% of customers wait longer than half an hour."
   ]
  },
  {
   "cell_type": "code",
   "execution_count": 5,
   "metadata": {
    "tags": [
     "hide"
    ]
   },
   "outputs": [
    {
     "data": {
      "text/plain": [
       "0.0746899470276461"
      ]
     },
     "execution_count": 5,
     "metadata": {},
     "output_type": "execute_result"
    }
   ],
   "source": [
    "get_proportion_waiting_over_limit(number_of_staff=15, limit=0.5)"
   ]
  },
  {
   "cell_type": "code",
   "execution_count": 6,
   "metadata": {
    "tags": [
     "hide"
    ]
   },
   "outputs": [
    {
     "data": {
      "text/plain": [
       "0.03351877562973731"
      ]
     },
     "execution_count": 6,
     "metadata": {},
     "output_type": "execute_result"
    }
   ],
   "source": [
    "get_proportion_waiting_over_limit(number_of_staff=16, limit=0.5)"
   ]
  },
  {
   "cell_type": "code",
   "execution_count": 7,
   "metadata": {
    "tags": [
     "hide"
    ]
   },
   "outputs": [
    {
     "data": {
      "text/plain": [
       "0.017284109093485336"
      ]
     },
     "execution_count": 7,
     "metadata": {},
     "output_type": "execute_result"
    }
   ],
   "source": [
    "get_proportion_waiting_over_limit(number_of_staff=17, limit=0.5)"
   ]
  },
  {
   "cell_type": "code",
   "execution_count": 8,
   "metadata": {
    "tags": [
     "hide"
    ]
   },
   "outputs": [
    {
     "data": {
      "text/plain": [
       "0.008138501761866299"
      ]
     },
     "execution_count": 8,
     "metadata": {},
     "output_type": "execute_result"
    }
   ],
   "source": [
    "get_proportion_waiting_over_limit(number_of_staff=18, limit=0.5)"
   ]
  },
  {
   "cell_type": "markdown",
   "metadata": {},
   "source": [
    "## Further work\n",
    "\n",
    "By looking ahead at the class resources, attempt to automate the above."
   ]
  },
  {
   "cell_type": "code",
   "execution_count": 9,
   "metadata": {
    "tags": [
     "hide"
    ]
   },
   "outputs": [
    {
     "data": {
      "text/plain": [
       "18"
      ]
     },
     "execution_count": 9,
     "metadata": {},
     "output_type": "execute_result"
    }
   ],
   "source": [
    "staff = 14\n",
    "while get_proportion_waiting_over_limit(number_of_staff=staff, limit=0.5) > 0.01:\n",
    "    staff += 1\n",
    "staff"
   ]
  },
  {
   "cell_type": "code",
   "execution_count": null,
   "metadata": {
    "collapsed": true
   },
   "outputs": [],
   "source": []
  }
 ],
 "metadata": {
  "celltoolbar": "Tags",
  "kernelspec": {
   "display_name": "Python 3",
   "language": "python",
   "name": "python3"
  },
  "language_info": {
   "codemirror_mode": {
    "name": "ipython",
    "version": 3
   },
   "file_extension": ".py",
   "mimetype": "text/x-python",
   "name": "python",
   "nbconvert_exporter": "python",
   "pygments_lexer": "ipython3",
   "version": "3.5.4"
  }
 },
 "nbformat": 4,
 "nbformat_minor": 2
}
