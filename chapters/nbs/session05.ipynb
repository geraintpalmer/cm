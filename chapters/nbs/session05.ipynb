{
 "cells": [
  {
   "cell_type": "raw",
   "metadata": {},
   "source": [
    "---\n",
    "layout: page\n",
    "permalink: /chapters/session05/\n",
    "---"
   ]
  },
  {
   "cell_type": "markdown",
   "metadata": {},
   "source": [
    "# Goals\n",
    "\n",
    "+ Read in data from files.\n",
    "+ Use pre written code to minimise advertising costs for Shed Josie.\n",
    "\n",
    "For this session you will be using the library `networkx`. This may need to be installed using `pip`:\n",
    "\n",
    "  + `pip install networkx` or\n",
    "  + `pip install --user networkx` on a university computer.\n"
   ]
  },
  {
   "cell_type": "markdown",
   "metadata": {},
   "source": [
    "# Shed Josie\n",
    "\n",
    "Shed Josie is a chain of garden stores based in Grenoble. They are going to embark on a national radio advertising campaign to promote their stores across the whole of France, using local radio station. They have identified 30 cities which much hear the radio advertisments. Furthermore they do not need to advertise on every local radio station, as cities close enough to one another can here eachothers' radio broadcasts:\n",
    "\n",
    "<img src=\"/cm/assets/france_map.png\" width=\"600\">{: .center-image }\n",
    "\n",
    "The 30 cities form a network, and cities with an edge between them are close enough to listen to one another's radio broadcasts.\n",
    "\n",
    "Your task is to identify the minimum number of cities Shed Josie needs to broadcats from, and identify which cities to broadcast from, in order to reach all 30 cities in France."
   ]
  },
  {
   "cell_type": "markdown",
   "metadata": {},
   "source": [
    "## Question 1\n",
    "\n",
    "First let's download and read in some data.\n",
    "\n",
    "Download:\n",
    "\n",
    "+ [The list of 30 French cities](/cm/assets/french_cities.txt)\n",
    "+ [The adjacency matrix](/cm/assets/french_distances.csv)\n",
    "\n",
    "Save these in the same folder as the notebook you are working on.\n",
    "\n",
    "Next, let's read in the list of cities:"
   ]
  },
  {
   "cell_type": "code",
   "execution_count": 1,
   "metadata": {
    "collapsed": true
   },
   "outputs": [],
   "source": [
    "with open('french_cities.txt', 'r') as f:\n",
    "    cities = f.read()"
   ]
  },
  {
   "cell_type": "code",
   "execution_count": 2,
   "metadata": {},
   "outputs": [
    {
     "data": {
      "text/plain": [
       "'Amiens\\nAvignon\\nBiarritz\\nBordeaux\\nBrest\\nCaen\\nCalais\\nDijon\\nGrenoble\\nLa Rochelle\\nLe Havre\\nLe Mans\\nLille\\nLimoges\\nLyon\\nMarseilles\\nMontpellier\\nNancy\\nNantes\\nNice\\nOrleans\\nParis\\nPerpignon\\nPoitiers\\nReims\\nRennes\\nRouen\\nStranbourg\\nToulon\\nToulouse'"
      ]
     },
     "execution_count": 2,
     "metadata": {},
     "output_type": "execute_result"
    }
   ],
   "source": [
    "cities"
   ]
  },
  {
   "cell_type": "markdown",
   "metadata": {},
   "source": [
    "This is a string of a list of cities, each separated by the line break character `\\n`. Let's break this into a list:"
   ]
  },
  {
   "cell_type": "code",
   "execution_count": 3,
   "metadata": {},
   "outputs": [
    {
     "data": {
      "text/plain": [
       "['Amiens',\n",
       " 'Avignon',\n",
       " 'Biarritz',\n",
       " 'Bordeaux',\n",
       " 'Brest',\n",
       " 'Caen',\n",
       " 'Calais',\n",
       " 'Dijon',\n",
       " 'Grenoble',\n",
       " 'La Rochelle',\n",
       " 'Le Havre',\n",
       " 'Le Mans',\n",
       " 'Lille',\n",
       " 'Limoges',\n",
       " 'Lyon',\n",
       " 'Marseilles',\n",
       " 'Montpellier',\n",
       " 'Nancy',\n",
       " 'Nantes',\n",
       " 'Nice',\n",
       " 'Orleans',\n",
       " 'Paris',\n",
       " 'Perpignon',\n",
       " 'Poitiers',\n",
       " 'Reims',\n",
       " 'Rennes',\n",
       " 'Rouen',\n",
       " 'Stranbourg',\n",
       " 'Toulon',\n",
       " 'Toulouse']"
      ]
     },
     "execution_count": 3,
     "metadata": {},
     "output_type": "execute_result"
    }
   ],
   "source": [
    "cities_list = cities.split('\\n')\n",
    "cities_list"
   ]
  },
  {
   "cell_type": "markdown",
   "metadata": {},
   "source": [
    "Now let's read in the adjacency matrix (a matrix where rows and columns represent cities, and entries are either a 1 or a 0 depending if those cities have an edge between them in the network). As this is a matrix of numbers, we'll use the `numpy` library to make things easier:"
   ]
  },
  {
   "cell_type": "code",
   "execution_count": 4,
   "metadata": {
    "collapsed": true
   },
   "outputs": [],
   "source": [
    "import numpy as np"
   ]
  },
  {
   "cell_type": "code",
   "execution_count": 5,
   "metadata": {
    "collapsed": true
   },
   "outputs": [],
   "source": [
    "adjacency_matrix = np.genfromtxt('french_distances.csv', delimiter=',')"
   ]
  },
  {
   "cell_type": "markdown",
   "metadata": {},
   "source": [
    "Looking at `adjacency_matrix` we see it's a list of lists, each list containing 30 numbers, `0`s or `1`s.\n",
    "\n",
    "Looking at the map, there is a link between `Marseilles` and `Nice`. Marseilles is city number 15, and Nice is number 19:"
   ]
  },
  {
   "cell_type": "code",
   "execution_count": 6,
   "metadata": {},
   "outputs": [
    {
     "data": {
      "text/plain": [
       "15"
      ]
     },
     "execution_count": 6,
     "metadata": {},
     "output_type": "execute_result"
    }
   ],
   "source": [
    "cities_list.index('Marseilles')"
   ]
  },
  {
   "cell_type": "code",
   "execution_count": 7,
   "metadata": {},
   "outputs": [
    {
     "data": {
      "text/plain": [
       "19"
      ]
     },
     "execution_count": 7,
     "metadata": {},
     "output_type": "execute_result"
    }
   ],
   "source": [
    "cities_list.index('Nice')"
   ]
  },
  {
   "cell_type": "markdown",
   "metadata": {},
   "source": [
    "So we'd expect a link between these in the adjacency matrix:"
   ]
  },
  {
   "cell_type": "code",
   "execution_count": 8,
   "metadata": {},
   "outputs": [
    {
     "data": {
      "text/plain": [
       "1.0"
      ]
     },
     "execution_count": 8,
     "metadata": {},
     "output_type": "execute_result"
    }
   ],
   "source": [
    "adjacency_matrix[15, 19]"
   ]
  },
  {
   "cell_type": "markdown",
   "metadata": {},
   "source": [
    "On the other hand, `Amiens` and `Avignon` (cities 0 and 1) are too far away to share radio waves, so they should not have a link:"
   ]
  },
  {
   "cell_type": "code",
   "execution_count": 9,
   "metadata": {},
   "outputs": [
    {
     "data": {
      "text/plain": [
       "0.0"
      ]
     },
     "execution_count": 9,
     "metadata": {},
     "output_type": "execute_result"
    }
   ],
   "source": [
    "adjacency_matrix[0, 1]"
   ]
  },
  {
   "cell_type": "markdown",
   "metadata": {},
   "source": [
    "Now identifying which cities to broadcast from is a common problem when framed as a network. We are tyring to find the *minimum dominating set*. We can use `networkx` to find this:"
   ]
  },
  {
   "cell_type": "code",
   "execution_count": 10,
   "metadata": {},
   "outputs": [
    {
     "data": {
      "text/plain": [
       "{0, 1, 2, 4, 7, 9, 11, 19, 27, 29}"
      ]
     },
     "execution_count": 10,
     "metadata": {},
     "output_type": "execute_result"
    }
   ],
   "source": [
    "import networkx as nx\n",
    "G = nx.from_numpy_array(adjacency_matrix)\n",
    "dominating_set = nx.dominating_set(G)\n",
    "dominating_set"
   ]
  },
  {
   "cell_type": "markdown",
   "metadata": {},
   "source": [
    "So Shed Josie only need to broadcast in 10 cities to reach every one of the 30 targeted cities.\n",
    "\n",
    "What are those cities?"
   ]
  },
  {
   "cell_type": "code",
   "execution_count": 11,
   "metadata": {},
   "outputs": [
    {
     "name": "stdout",
     "output_type": "stream",
     "text": [
      "Amiens\n",
      "Avignon\n",
      "Biarritz\n",
      "Brest\n",
      "Dijon\n",
      "La Rochelle\n",
      "Le Mans\n",
      "Nice\n",
      "Stranbourg\n",
      "Toulouse\n"
     ]
    }
   ],
   "source": [
    "for city_number in dominating_set:\n",
    "    print(cities_list[city_number])"
   ]
  },
  {
   "cell_type": "markdown",
   "metadata": {},
   "source": [
    "That is:\n",
    "\n",
    "<img src=\"/cm/assets/france_map_sol.png\" width=\"600\">{: .center-image }\n"
   ]
  },
  {
   "cell_type": "markdown",
   "metadata": {},
   "source": [
    "## Question 2\n",
    "\n",
    "Shed Josie want to begin an advertsing campaign in Italy. Repeat this analysis for Italy:\n",
    "\n",
    "+ [The list of 14 Italian cities](/cm/assets/italian_cities.txt)\n",
    "+ [The adjacency matrix](/cm/assets/italian_distances.csv)\n",
    "\n",
    "<img src=\"/cm/assets/italy_map.png\" width=\"600\">{: .center-image }\n"
   ]
  },
  {
   "cell_type": "code",
   "execution_count": 12,
   "metadata": {
    "tags": [
     "hide"
    ]
   },
   "outputs": [
    {
     "name": "stdout",
     "output_type": "stream",
     "text": [
      "Bari\n",
      "Bologna\n"
     ]
    }
   ],
   "source": [
    "with open('italian_cities.txt', 'r') as f:\n",
    "    cities = f.read()\n",
    "cities_list = cities.split('\\n')\n",
    "adjacency_matrix = np.genfromtxt('italian_distances.csv', delimiter=',')\n",
    "G = nx.from_numpy_array(adjacency_matrix)\n",
    "dominating_set = nx.dominating_set(G)\n",
    "for city_number in dominating_set:\n",
    "    print(cities_list[city_number])"
   ]
  },
  {
   "cell_type": "markdown",
   "metadata": {},
   "source": [
    "## Question 3\n",
    "\n",
    "Shed Josie want to begin an advertsing campaign in the USA. Repeat this analysis for the USA:\n",
    "\n",
    "+ [The list of 40 American cities](/cm/assets/american_cities.txt)\n",
    "+ [The adjacency matrix](/cm/assets/american_distances.csv)\n",
    "\n",
    "<img src=\"/cm/assets/usa_map.png\" width=\"600\">{: .center-image }\n"
   ]
  },
  {
   "cell_type": "code",
   "execution_count": 13,
   "metadata": {
    "tags": [
     "hide"
    ]
   },
   "outputs": [
    {
     "name": "stdout",
     "output_type": "stream",
     "text": [
      "Albuquerque\n",
      "Atlanta\n",
      "Boston\n",
      "Seattle\n",
      "Chicago\n",
      "Houston\n",
      "Los Angeles\n"
     ]
    }
   ],
   "source": [
    "with open('american_cities.txt', 'r') as f:\n",
    "    cities = f.read()\n",
    "cities_list = cities.split('\\n')\n",
    "adjacency_matrix = np.genfromtxt('american_distances.csv', delimiter=',')\n",
    "G = nx.from_numpy_array(adjacency_matrix)\n",
    "dominating_set = nx.dominating_set(G)\n",
    "for city_number in dominating_set:\n",
    "    print(cities_list[city_number])"
   ]
  },
  {
   "cell_type": "code",
   "execution_count": null,
   "metadata": {
    "collapsed": true
   },
   "outputs": [],
   "source": []
  }
 ],
 "metadata": {
  "celltoolbar": "Tags",
  "kernelspec": {
   "display_name": "Python 3",
   "language": "python",
   "name": "python3"
  },
  "language_info": {
   "codemirror_mode": {
    "name": "ipython",
    "version": 3
   },
   "file_extension": ".py",
   "mimetype": "text/x-python",
   "name": "python",
   "nbconvert_exporter": "python",
   "pygments_lexer": "ipython3",
   "version": "3.5.4"
  }
 },
 "nbformat": 4,
 "nbformat_minor": 2
}
