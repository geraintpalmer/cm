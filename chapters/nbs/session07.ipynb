{
 "cells": [
  {
   "cell_type": "raw",
   "metadata": {
    "collapsed": true
   },
   "source": [
    "---\n",
    "layout: page\n",
    "permalink: /chapters/session07/\n",
    "---"
   ]
  },
  {
   "cell_type": "markdown",
   "metadata": {},
   "source": [
    "## Programming Concepts 2\n",
    "\n",
    "Below is Python code for a greedy algorithm that finds the dominating set of a graph. Notice that this is structured as a class, with attributes and methods."
   ]
  },
  {
   "cell_type": "code",
   "execution_count": 1,
   "metadata": {
    "collapsed": true
   },
   "outputs": [],
   "source": [
    "import numpy as np\n",
    "import random\n",
    "\n",
    "class AdvertisingCampaign:\n",
    "    \"\"\"\n",
    "    A Class to create an AdvertisingCampaign object.\n",
    "    Holds information about the cities and their adjacency matrix.\n",
    "    Contains methods to minimise the number of cities required to cover\n",
    "    the set.\n",
    "    \"\"\"\n",
    "    def __init__(self, cities, adj_matrix):\n",
    "        \"\"\"\n",
    "        Initialises the object.\n",
    "        \"\"\"\n",
    "        self.cities = cities\n",
    "        self.number_of_cities = len(self.cities)\n",
    "        self.adj_matrix = adj_matrix\n",
    "        self.best_score = len(self.cities)\n",
    "        self.best_solution = np.array([1] *  self.number_of_cities)\n",
    "        self.num_broadcasts_to_try = np.linalg.matrix_rank(self.adj_matrix)\n",
    "    \n",
    "    def evalutate_solution(self, solution):\n",
    "        \"\"\"\n",
    "        Gives a score to a potential solution.\n",
    "        If solution leaves any city out, returns self.number_of_cities,\n",
    "        otherwise it returns the number of cities used for broadcasts.\n",
    "        \"\"\"\n",
    "        coverage = np.matmul(solution, self.adj_matrix)\n",
    "        if 0 in coverage:\n",
    "            return self.number_of_cities\n",
    "        return sum(solution)\n",
    "    \n",
    "    def new_solution(self):\n",
    "        \"\"\"\n",
    "        Randomly generate a new potential solution\n",
    "        with self.number_broadcasts_to_try broadcasts.\n",
    "        \"\"\"\n",
    "        number_empty = self.number_of_cities - self.num_broadcasts_to_try\n",
    "        sol = [1] * self.num_broadcasts_to_try + [0] * number_empty\n",
    "        random.shuffle(sol)\n",
    "        return np.array(sol)\n",
    "    \n",
    "    def optimise(self, num_itrs):\n",
    "        \"\"\"\n",
    "        For num_itrs iterations, keep generating random potential\n",
    "        solutions with self.number_broadcasts_to_try broadcasts. If solution\n",
    "        is valid, reduce the number of broadcasts to try by 1. Keep track\n",
    "        of best solution.\n",
    "        \"\"\"\n",
    "        for iteration in range(num_itrs):\n",
    "            solution = self.new_solution()\n",
    "            score = self.evalutate_solution(solution)\n",
    "            if score <= self.best_score:\n",
    "                self.best_solution = solution\n",
    "                self.best_score = score\n",
    "                self.num_broadcasts_to_try = self.best_score - 1\n",
    "    \n",
    "    def print_solution(self):\n",
    "        \"\"\"\n",
    "        Prints out the best solution.\n",
    "        \"\"\"\n",
    "        for i, city in enumerate(self.cities):\n",
    "            if self.best_solution[i] == 1:\n",
    "                print(self.cities[i])\n"
   ]
  },
  {
   "cell_type": "code",
   "execution_count": 2,
   "metadata": {
    "collapsed": true
   },
   "outputs": [],
   "source": [
    "with open('french_cities.txt', 'r') as f:\n",
    "    cities = f.read()\n",
    "    cities_list = cities.split('\\n')\n",
    "adjacency_matrix = np.genfromtxt('french_distances.csv', delimiter=',')"
   ]
  },
  {
   "cell_type": "code",
   "execution_count": 3,
   "metadata": {},
   "outputs": [
    {
     "name": "stdout",
     "output_type": "stream",
     "text": [
      "Avignon\n",
      "Bordeaux\n",
      "Le Havre\n",
      "Lille\n",
      "Nancy\n",
      "Nice\n",
      "Poitiers\n",
      "Rennes\n"
     ]
    }
   ],
   "source": [
    "random.seed(0)\n",
    "R = AdvertisingCampaign(cities_list, adjacency_matrix)\n",
    "R.optimise(10000)\n",
    "R.print_solution()"
   ]
  },
  {
   "cell_type": "code",
   "execution_count": 4,
   "metadata": {},
   "outputs": [
    {
     "data": {
      "text/plain": [
       "8"
      ]
     },
     "execution_count": 4,
     "metadata": {},
     "output_type": "execute_result"
    }
   ],
   "source": [
    "R.best_score"
   ]
  },
  {
   "cell_type": "markdown",
   "metadata": {},
   "source": [
    "Study the code above, ensure that you understand what it is doing, and how it relates to the overall task of finding the dominating set of a graph. The image below points out some key Python concepts used in the code:"
   ]
  },
  {
   "cell_type": "markdown",
   "metadata": {},
   "source": [
    "![](/cm/assets/concepts2-diagram-blank.svg)"
   ]
  },
  {
   "cell_type": "markdown",
   "metadata": {},
   "source": [
    "Use the sentences below to fill in the blank boxes in the image above with the sentences below. Match the key concept with some description of its use:"
   ]
  },
  {
   "cell_type": "markdown",
   "metadata": {},
   "source": [
    "![](/cm/assets/concepts2-diagram-sentences.svg)"
   ]
  },
  {
   "cell_type": "markdown",
   "metadata": {},
   "source": [
    "You will have a print out of these sheets.\n",
    "\n",
    "***Complete the task by the next session,*** you may wish to look ahead in the course notes."
   ]
  },
  {
   "cell_type": "code",
   "execution_count": null,
   "metadata": {
    "collapsed": true
   },
   "outputs": [],
   "source": []
  }
 ],
 "metadata": {
  "kernelspec": {
   "display_name": "Python 3",
   "language": "python",
   "name": "python3"
  },
  "language_info": {
   "codemirror_mode": {
    "name": "ipython",
    "version": 3
   },
   "file_extension": ".py",
   "mimetype": "text/x-python",
   "name": "python",
   "nbconvert_exporter": "python",
   "pygments_lexer": "ipython3",
   "version": "3.5.4"
  }
 },
 "nbformat": 4,
 "nbformat_minor": 2
}
